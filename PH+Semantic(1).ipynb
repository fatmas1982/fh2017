{
 "cells": [
  {
   "cell_type": "code",
   "execution_count": 2,
   "metadata": {
    "collapsed": false,
    "deletable": true,
    "editable": true
   },
   "outputs": [],
   "source": [
    "import nltk\n",
    "from collections import Counter\n",
    "import pandas as pd\n"
   ]
  },
  {
   "cell_type": "markdown",
   "metadata": {
    "deletable": true,
    "editable": true
   },
   "source": [
    "# Read File"
   ]
  },
  {
   "cell_type": "code",
   "execution_count": 3,
   "metadata": {
    "collapsed": false,
    "deletable": true,
    "editable": true
   },
   "outputs": [],
   "source": [
    "new_path = '/home/cloudera/cs.txt'\n",
    "def read_file(str):\n",
    "    file = open(str,'r')\n",
    "    txt=file.read()\n",
    "    #print(txt)\n",
    "    return txt"
   ]
  },
  {
   "cell_type": "code",
   "execution_count": 4,
   "metadata": {
    "collapsed": false,
    "deletable": true,
    "editable": true
   },
   "outputs": [],
   "source": [
    "txt=read_file(new_path)\n"
   ]
  },
  {
   "cell_type": "code",
   "execution_count": 5,
   "metadata": {
    "collapsed": false,
    "deletable": true,
    "editable": true
   },
   "outputs": [
    {
     "data": {
      "text/plain": [
       "str"
      ]
     },
     "execution_count": 5,
     "metadata": {},
     "output_type": "execute_result"
    }
   ],
   "source": [
    "type(txt)"
   ]
  },
  {
   "cell_type": "markdown",
   "metadata": {
    "deletable": true,
    "editable": true
   },
   "source": [
    "# Split text to pragraphs "
   ]
  },
  {
   "cell_type": "code",
   "execution_count": 6,
   "metadata": {
    "collapsed": false,
    "deletable": true,
    "editable": true
   },
   "outputs": [
    {
     "data": {
      "text/plain": [
       "list"
      ]
     },
     "execution_count": 6,
     "metadata": {},
     "output_type": "execute_result"
    }
   ],
   "source": [
    "def txt_pragraphs(str):\n",
    "    pragraphs = str.split(\"\\n\\n\")\n",
    "    return pragraphs\n",
    "pragraphs=txt_pragraphs(txt)\n",
    "type(pragraphs)\n"
   ]
  },
  {
   "cell_type": "code",
   "execution_count": 291,
   "metadata": {
    "collapsed": false,
    "deletable": true,
    "editable": true
   },
   "outputs": [
    {
     "data": {
      "text/plain": [
       "'    Computer science also has strong connections to other disciplines. Many problems in science, engineering, health care, business, and other areas can be solved effectively with computers, but finding a solution requires both computer science expertise and knowledge of the particular application domain. Thus, computer scientists often become proficient in other subjects.'"
      ]
     },
     "execution_count": 291,
     "metadata": {},
     "output_type": "execute_result"
    }
   ],
   "source": [
    "pragraphs[2]\n"
   ]
  },
  {
   "cell_type": "markdown",
   "metadata": {
    "deletable": true,
    "editable": true
   },
   "source": [
    "# Split Pragraph to Sentences "
   ]
  },
  {
   "cell_type": "code",
   "execution_count": 8,
   "metadata": {
    "collapsed": true,
    "deletable": true,
    "editable": true
   },
   "outputs": [],
   "source": [
    "from nltk.tokenize import sent_tokenize, word_tokenize\n"
   ]
  },
  {
   "cell_type": "code",
   "execution_count": 292,
   "metadata": {
    "collapsed": false,
    "deletable": true,
    "editable": true
   },
   "outputs": [],
   "source": [
    "#print(sent_tokenize(pragraphs(txt)[1]))\n",
    "def pragraph_to_setnences(str):\n",
    "    return sent_tokenize(str)\n",
    "setnences=pragraph_to_setnences(pragraphs[2])\n"
   ]
  },
  {
   "cell_type": "markdown",
   "metadata": {
    "deletable": true,
    "editable": true
   },
   "source": [
    "## Word Process For Sentence"
   ]
  },
  {
   "cell_type": "code",
   "execution_count": 10,
   "metadata": {
    "collapsed": true,
    "deletable": true,
    "editable": true
   },
   "outputs": [],
   "source": [
    "from nltk.corpus import stopwords\n",
    "from nltk.tokenize import RegexpTokenizer"
   ]
  },
  {
   "cell_type": "markdown",
   "metadata": {
    "deletable": true,
    "editable": true
   },
   "source": [
    "## Removing English stopwords and Punct per Sentence"
   ]
  },
  {
   "cell_type": "code",
   "execution_count": 11,
   "metadata": {
    "collapsed": false,
    "deletable": true,
    "editable": true
   },
   "outputs": [],
   "source": [
    "new_stop_words = ['the', 'that', 'to', 'as', 'there', 'has', 'and', 'or', 'is', 'not', 'a', 'of', 'but', 'in', 'by', 'on', 'are', 'it', 'if','what','where','how','when']\n",
    "new_stop_words2=['i', 'me', 'my', 'myself', 'we', 'our', 'ours', 'ourselves', 'you', 'your', 'yours', 'yourself', 'yourselves', 'he', 'him', 'his', 'himself', 'she', 'her', 'hers', 'herself', 'it', 'its', 'itself', 'they', 'them', 'their', 'theirs', 'themselves', 'what', 'which', 'who', 'whom', 'this', 'that', 'these', 'those', 'am', 'is', 'are', 'was', 'were', 'be', 'been', 'being', 'have', 'has', 'had', 'having', 'do', 'does', 'did', 'doing', 'a', 'an', 'the', 'and', 'but', 'if', 'or', 'because', 'as', 'until', 'while', 'of', 'at', 'by', 'for', 'with', 'about', 'against', 'between', 'into', 'through', 'during', 'before', 'after', 'above', 'below', 'to', 'from', 'up', 'down', 'in', 'out', 'on', 'off', 'over', 'under', 'again', 'further', 'then', 'once', 'here', 'there', 'when', 'where', 'why', 'how', 'all', 'any', 'both', 'each', 'few', 'more', 'most', 'other', 'some', 'such', 'no', 'nor', 'not', 'only', 'own', 'same', 'so', 'than', 'too', 'very', 's', 't', 'can', 'will', 'just', 'don', 'should', 'now','even','until','then']\n",
    "\n",
    "from stemming.porter2 import stem\n",
    "from nltk import PorterStemmer\n",
    "from nltk.stem.porter import *\n",
    "from nltk.stem.snowball import SnowballStemmer\n",
    "#stemmer = PorterStemmer()\n",
    "stemmer = SnowballStemmer(\"english\", ignore_stopwords=True)\n",
    "def remove_stopword_sentences(str):\n",
    "    tokenizer = RegexpTokenizer(\"[\\w']+\")\n",
    "    words=tokenizer.tokenize(str)\n",
    "    english_stops = set(stopwords.words('english'))\n",
    "    stems=[]\n",
    "    list_word=[word for word in words if word.lower() not in english_stops and word.lower() not in new_stop_words and word.lower() not in new_stop_words2]\n",
    "    for word in list_word:\n",
    "        #stems.append(stem(word))\n",
    "        #stems.append(PorterStemmer().stem(word))\n",
    "        #stems.append(stemmer.stem(word))\n",
    "        #stems.append(stemmer.stem(\"computer\"))\n",
    "        stems.append(word)\n",
    "    \n",
    "    return stems#(stem(setem_word for setem_word in  ([word for word in words if word not in english_stops and word not in new_stop_words])))"
   ]
  },
  {
   "cell_type": "code",
   "execution_count": 294,
   "metadata": {
    "collapsed": false,
    "deletable": true,
    "editable": true
   },
   "outputs": [
    {
     "name": "stdout",
     "output_type": "stream",
     "text": [
      "['Many', 'problems', 'science', 'engineering', 'health', 'care', 'business', 'areas', 'solved', 'effectively', 'computers', 'finding', 'solution', 'requires', 'computer', 'science', 'expertise', 'knowledge', 'particular', 'application', 'domain']\n",
      "Counter({'science': 2, 'particular': 1, 'requires': 1, 'problems': 1, 'expertise': 1, 'domain': 1, 'engineering': 1, 'solution': 1, 'business': 1, 'areas': 1, 'solved': 1, 'knowledge': 1, 'finding': 1, 'effectively': 1, 'health': 1, 'computers': 1, 'computer': 1, 'application': 1, 'care': 1, 'Many': 1})\n"
     ]
    }
   ],
   "source": [
    "words=remove_stopword_sentences(setnences[1])\n",
    "count = Counter(words)\n",
    "# to count words\n",
    "#print (count.most_common(10))\n",
    "print(words)\n",
    "print(count)"
   ]
  },
  {
   "cell_type": "markdown",
   "metadata": {
    "deletable": true,
    "editable": true
   },
   "source": [
    "# Compute Frequencies"
   ]
  },
  {
   "cell_type": "code",
   "execution_count": 295,
   "metadata": {
    "collapsed": false,
    "deletable": true,
    "editable": true
   },
   "outputs": [
    {
     "data": {
      "text/html": [
       "<div>\n",
       "<table border=\"1\" class=\"dataframe\">\n",
       "  <thead>\n",
       "    <tr style=\"text-align: right;\">\n",
       "      <th></th>\n",
       "      <th>particular</th>\n",
       "      <th>requires</th>\n",
       "      <th>problems</th>\n",
       "      <th>expertise</th>\n",
       "      <th>domain</th>\n",
       "      <th>engineering</th>\n",
       "      <th>solution</th>\n",
       "      <th>business</th>\n",
       "      <th>areas</th>\n",
       "      <th>solved</th>\n",
       "      <th>knowledge</th>\n",
       "      <th>finding</th>\n",
       "      <th>effectively</th>\n",
       "      <th>health</th>\n",
       "      <th>computers</th>\n",
       "      <th>computer</th>\n",
       "      <th>application</th>\n",
       "      <th>care</th>\n",
       "      <th>science</th>\n",
       "      <th>Many</th>\n",
       "    </tr>\n",
       "  </thead>\n",
       "  <tbody>\n",
       "    <tr>\n",
       "      <th>Freq</th>\n",
       "      <td>1</td>\n",
       "      <td>1</td>\n",
       "      <td>1</td>\n",
       "      <td>1</td>\n",
       "      <td>1</td>\n",
       "      <td>1</td>\n",
       "      <td>1</td>\n",
       "      <td>1</td>\n",
       "      <td>1</td>\n",
       "      <td>1</td>\n",
       "      <td>1</td>\n",
       "      <td>1</td>\n",
       "      <td>1</td>\n",
       "      <td>1</td>\n",
       "      <td>1</td>\n",
       "      <td>1</td>\n",
       "      <td>1</td>\n",
       "      <td>1</td>\n",
       "      <td>2</td>\n",
       "      <td>1</td>\n",
       "    </tr>\n",
       "  </tbody>\n",
       "</table>\n",
       "</div>"
      ],
      "text/plain": [
       "      particular  requires  problems  expertise  domain  engineering  \\\n",
       "Freq           1         1         1          1       1            1   \n",
       "\n",
       "      solution  business  areas  solved  knowledge  finding  effectively  \\\n",
       "Freq         1         1      1       1          1        1            1   \n",
       "\n",
       "      health  computers  computer  application  care  science  Many  \n",
       "Freq       1          1         1            1     1        2     1  "
      ]
     },
     "execution_count": 295,
     "metadata": {},
     "output_type": "execute_result"
    }
   ],
   "source": [
    "\n",
    "\n",
    "def compute_freq(word_vec):\n",
    "    headers=[\"Freq\"]\n",
    "    \n",
    "    word_nonfreq={}\n",
    "    \n",
    "    for index in range(len(word_vec)):\n",
    "        #word_nonfreq.append(word)\n",
    "        \n",
    "        for index2 in range(len(word_vec)):\n",
    "            counter=0\n",
    "            if index2+1 in range(len(word_vec)):\n",
    "                print (word_vec[index],word_vec[index2+1])\n",
    "                if word_vec[index]==word_vec[index2+1]:\n",
    "                    counter+=1\n",
    "        word_nonfreq[ word_vec[index]]=counter\n",
    "        #print(counter)\n",
    "        #df_frequencies.loc[word]=counter\n",
    "    df_frequencies = pd.DataFrame(word_nonfreq,index=headers, columns=word_nonfreq ) \n",
    "    \n",
    "    \n",
    "    return df_frequencies\n",
    "\n",
    "\n",
    "def count_freq(word_vec):\n",
    "    headers=[\"Freq\"]\n",
    "    count = Counter(word_vec)\n",
    "    df_frequencies = pd.DataFrame(count,index=headers, columns=count ) \n",
    "    #print(count)\n",
    "    \n",
    "    return df_frequencies\n",
    "            \n",
    "#ss=compute_freq(words)\n",
    "xx=count_freq(words)\n",
    "xx\n",
    "#list(xx)\n",
    "#ss"
   ]
  },
  {
   "cell_type": "markdown",
   "metadata": {
    "deletable": true,
    "editable": true
   },
   "source": [
    "## Word Sense Disambiguation (WSD): LESK per Sentence\n",
    "Given an ambiguous word and the context in which the word occurs, Lesk returns a Synset with the highest number of overlapping words between the context sentence and different definitions from each Synset.\n",
    "\n"
   ]
  },
  {
   "cell_type": "code",
   "execution_count": 296,
   "metadata": {
    "collapsed": false,
    "deletable": true,
    "editable": true
   },
   "outputs": [],
   "source": [
    "from nltk.wsd import lesk\n",
    "'''\n",
    "this function for compute lesk for each word(list of word) in sentence\n",
    "'''\n",
    "def lesk_words_sentence(words,sentence):\n",
    "    lesks= []\n",
    "    for word in words:\n",
    "        if lesk(sentence,word, 'n') is not None:\n",
    "            lesks.append(lesk(sentence,word, 'n'))\n",
    "            #print(\"Word is: \",word,\"\\n LESK: \",lesk(sentence,word, 'n'),\"\\n Sentence: \",sentence )\n",
    "        \n",
    "    return lesks\n",
    "    "
   ]
  },
  {
   "cell_type": "code",
   "execution_count": 297,
   "metadata": {
    "collapsed": true,
    "deletable": true,
    "editable": true
   },
   "outputs": [],
   "source": [
    "'''\n",
    "this function for compute lesk of word in sentence\n",
    "'''\n",
    "\n",
    "def lesk_word_sentence(word,sentence):\n",
    "    #lesks= []\n",
    "    #for word in words:\n",
    "    lesk_synset=lesk(sentence,word, 'n')\n",
    "        #print(\"Word is: \",word,\"\\n LESK: \",lesk(sentence,word, 'n'),\"\\n Sentence: \",sentence )\n",
    "        \n",
    "    return lesk_synset"
   ]
  },
  {
   "cell_type": "code",
   "execution_count": 299,
   "metadata": {
    "collapsed": false,
    "deletable": true,
    "editable": true
   },
   "outputs": [],
   "source": [
    "lesks=lesk_words_sentence(words,setnences[0])\n",
    "leskss=lesk_word_sentence(words[1],setnences[0])\n",
    "#print(words[1],setnences[0])\n",
    "#print (leskss)"
   ]
  },
  {
   "cell_type": "code",
   "execution_count": 17,
   "metadata": {
    "collapsed": false,
    "deletable": true,
    "editable": true
   },
   "outputs": [],
   "source": [
    "#type(lesks)"
   ]
  },
  {
   "cell_type": "markdown",
   "metadata": {
    "deletable": true,
    "editable": true
   },
   "source": [
    "## Calculating WordNet Synset similarity using information content"
   ]
  },
  {
   "cell_type": "code",
   "execution_count": 173,
   "metadata": {
    "collapsed": false,
    "deletable": true,
    "editable": true
   },
   "outputs": [],
   "source": [
    "from nltk.corpus import wordnet as wn\n",
    "from nltk.corpus import wordnet_ic as wnic\n",
    "from nltk.tokenize import word_tokenize\n",
    "\n",
    "'''\n",
    "this function for compute similarty between 2 synset \n",
    "'''\n",
    "\n",
    "def similarity_by_infocontent(sense1, sense2, option):\n",
    "    \"\"\" Returns similarity scores by information content. \"\"\"\n",
    "    #if sense1.pos != sense2.pos: # infocontent sim can't do diff POS.\n",
    "        #return 0\n",
    "\n",
    "    info_contents = ['ic-bnc-add1.dat', 'ic-bnc-resnik-add1.dat', \n",
    "                     'ic-bnc-resnik.dat', 'ic-bnc.dat', \n",
    "\n",
    "                     'ic-brown-add1.dat', 'ic-brown-resnik-add1.dat', \n",
    "                     'ic-brown-resnik.dat', 'ic-brown.dat', \n",
    "\n",
    "                     'ic-semcor-add1.dat', 'ic-semcor.dat',\n",
    "\n",
    "                     'ic-semcorraw-add1.dat', 'ic-semcorraw-resnik-add1.dat', \n",
    "                     'ic-semcorraw-resnik.dat', 'ic-semcorraw.dat', \n",
    "\n",
    "                     'ic-shaks-add1.dat', 'ic-shaks-resnik.dat', \n",
    "                     'ic-shaks-resnink-add1.dat', 'ic-shaks.dat', \n",
    "\n",
    "                     'ic-treebank-add1.dat', 'ic-treebank-resnik-add1.dat', \n",
    "                     'ic-treebank-resnik.dat', 'ic-treebank.dat']\n",
    "\n",
    "    if option in ['res', 'resnik']:\n",
    "        #return wn.res_similarity(sense1, sense2, wnic.ic('ic-bnc-resnik-add1.dat'))\n",
    "        #print('simRe snik (c1,c2) = -log p(lso(c1,c2)) = IC(lso(c1,c2)')\n",
    "        return wn.res_similarity(sense1, sense2, wnic.ic('ic-treebank-resnik-add1.dat'))\n",
    "    #return min(wn.res_similarity(sense1, sense2, wnic.ic(ic)) \\\n",
    "    #             for ic in info_contents)\n",
    "\n",
    "    elif option in ['jcn', \"jiang-conrath\"]:\n",
    "        #return wn.jcn_similarity(sense1, sense2, wnic.ic('ic-bnc-add1.dat'))\n",
    "        #print('sim(jcn) (c1,c2 )= (IC(c1) + IC(c2 )) - 2IC(lso(c1,c2 ))')\n",
    "        return wn.jcn_similarity(sense1, sense2, wnic.ic('ic-treebank.dat'))\n",
    "\n",
    "    elif option in ['lin']:\n",
    "        #return wn.lin_similarity(sense1, sense2, wnic.ic('ic-bnc-add1.dat'))\n",
    "        #print('sim(lin) (c1,c2)=(2IC(lso(c1,c2 )))/(IC(c1)+IC(c2))')\n",
    "        return wn.lin_similarity(sense1, sense2, wnic.ic('ic-treebank.dat'))\n",
    "\n",
    "def sim(sense1, sense2, option=\"path\"):\n",
    "    \"\"\" Calculates similarity based on user's choice. \"\"\"\n",
    "    option = option.lower()\n",
    "    if option.lower() in [\"path\", \"path_similarity\", \n",
    "                        \"wup\", \"wupa\", \"wu-palmer\", \"wu-palmer\",\n",
    "                        'lch', \"leacock-chordorow\"]:\n",
    "        return similarity_by_path(sense1, sense2, option) \n",
    "    elif option.lower() in [\"res\", \"resnik\",\n",
    "                          \"jcn\",\"jiang-conrath\",\n",
    "                          \"lin\"]:\n",
    "        return similarity_by_infocontent(sense1, sense2, option)\n",
    "\n",
    "def max_similarity(context_sentence, ambiguous_word, option=\"path\", \n",
    "                   pos=None, best=True):\n",
    "    \"\"\"\n",
    "    Perform WSD by maximizing the sum of maximum similarity between possible \n",
    "    synsets of all words in the context sentence and the possible synsets of the \n",
    "    ambiguous words (see http://goo.gl/XMq2BI):\n",
    "    {argmax}_{synset(a)}(\\sum_{i}^{n}{{max}_{synset(i)}(sim(i,a))}\n",
    "    \"\"\"\n",
    "    result = {}\n",
    "    for i in wn.synsets(ambiguous_word):\n",
    "        try:\n",
    "            if pos and pos != str(i.pos()):\n",
    "                continue\n",
    "        except:\n",
    "            if pos and pos != str(i.pos):\n",
    "                continue\n",
    "        result[i] = sum(max([sim(i,k,option) for k in wn.synsets(j)]+[0]) \\\n",
    "                        for j in word_tokenize(context_sentence))\n",
    "\n",
    "    if option in [\"res\",\"resnik\"]: # lower score = more similar\n",
    "        result = sorted([(v,k) for k,v in result.items()])\n",
    "    else: # higher score = more similar\n",
    "        result = sorted([(v,k) for k,v in result.items()],reverse=True)\n",
    "    #print (result)\n",
    "    if best: return result[0][1];\n",
    "    return result"
   ]
  },
  {
   "cell_type": "code",
   "execution_count": 298,
   "metadata": {
    "collapsed": false,
    "deletable": true,
    "editable": true
   },
   "outputs": [
    {
     "name": "stdout",
     "output_type": "stream",
     "text": [
      "Synset('user.n.01') Synset('computer.n.01')\n"
     ]
    },
    {
     "data": {
      "text/plain": [
       "1.5520118749329381"
      ]
     },
     "execution_count": 298,
     "metadata": {},
     "output_type": "execute_result"
    }
   ],
   "source": [
    "print(lesks[2],lesks[1])\n",
    "similarity_by_infocontent(lesks[2],lesks[1],'res')"
   ]
  },
  {
   "cell_type": "code",
   "execution_count": 20,
   "metadata": {
    "collapsed": false,
    "deletable": true,
    "editable": true
   },
   "outputs": [],
   "source": [
    "#wn.res_similarity(lesks[1],lesks[2], wnic.ic('ic-bnc-resnik-add1.dat'))"
   ]
  },
  {
   "cell_type": "code",
   "execution_count": 21,
   "metadata": {
    "collapsed": false,
    "deletable": true,
    "editable": true
   },
   "outputs": [],
   "source": [
    "#similarity_by_infocontent(lesks[2],lesks[1],'jcn')"
   ]
  },
  {
   "cell_type": "code",
   "execution_count": 22,
   "metadata": {
    "collapsed": false,
    "deletable": true,
    "editable": true
   },
   "outputs": [],
   "source": [
    "#similarity_by_infocontent(lesks[2],lesks[1],'lin')"
   ]
  },
  {
   "cell_type": "markdown",
   "metadata": {
    "deletable": true,
    "editable": true
   },
   "source": [
    "## Simlarty per Words for Sentence"
   ]
  },
  {
   "cell_type": "code",
   "execution_count": 174,
   "metadata": {
    "collapsed": false,
    "deletable": true,
    "editable": true
   },
   "outputs": [],
   "source": [
    "#df_sentence_similarty = pd.DataFrame(index=words, columns=words )\n",
    "#df_sentence_similarty.loc[words[0]]=[1,2,3,4,5,6]\n",
    "'''\n",
    "to retrive similarty between list of synset\n",
    "'''\n",
    "rows_list = []\n",
    "def simlarty_perWords(list_words,option):\n",
    "    for index in range(len(list_words)):\n",
    "        if index+1 <len(list_words):\n",
    "            #df_similarty.loc[list_words[index]]\n",
    "            #print(list_words[index].lowest_common_hypernyms(list_words[index+1]))\n",
    "            #print(list_words[index],list_words[index+1],similarity_by_infocontent(list_words[index],list_words[index+1],option))\n",
    "            rows_list.append(similarity_by_infocontent(list_words[index],list_words[index+1],option))\n",
    "    return rows_list\n",
    "            "
   ]
  },
  {
   "cell_type": "code",
   "execution_count": 300,
   "metadata": {
    "collapsed": false,
    "deletable": true,
    "editable": true
   },
   "outputs": [
    {
     "data": {
      "text/plain": [
       "[3.0862609105980248,\n",
       " -0.0,\n",
       " -0.0,\n",
       " 3.3979222995980938,\n",
       " 0.622354726626253,\n",
       " 0.622354726626253,\n",
       " -0.0,\n",
       " -0.0,\n",
       " 2.432224623297784,\n",
       " -0.0,\n",
       " -0.0,\n",
       " 0.622354726626253,\n",
       " 0.622354726626253,\n",
       " 0.622354726626253,\n",
       " -0.0,\n",
       " -0.0]"
      ]
     },
     "execution_count": 300,
     "metadata": {},
     "output_type": "execute_result"
    }
   ],
   "source": [
    "simlarty_perWords(lesks,'res')"
   ]
  },
  {
   "cell_type": "code",
   "execution_count": 25,
   "metadata": {
    "collapsed": false,
    "deletable": true,
    "editable": true
   },
   "outputs": [],
   "source": [
    "#simlarty_perWords(lesks,'lin')"
   ]
  },
  {
   "cell_type": "code",
   "execution_count": 26,
   "metadata": {
    "collapsed": false,
    "deletable": true,
    "editable": true
   },
   "outputs": [],
   "source": [
    "#simlarty_perWords(lesks,'jcn')"
   ]
  },
  {
   "cell_type": "markdown",
   "metadata": {
    "deletable": true,
    "editable": true
   },
   "source": [
    "# TF-IDF\n",
    "TF-IDF stands for \"Term Frequency, Inverse Document Frequency\". It is a way to score the importance of words (or \"terms\") in a document based on how frequently they appear across multiple documents.\n",
    "\n",
    "Intuitively...\n",
    "If a word appears frequently in a document, it's important. Give the word a high score.\n",
    "But if a word appears in many documents, it's not a unique identifier. Give the word a low score."
   ]
  },
  {
   "cell_type": "code",
   "execution_count": 27,
   "metadata": {
    "collapsed": false,
    "deletable": true,
    "editable": true
   },
   "outputs": [],
   "source": [
    "import tfidf\n",
    "#https://github.com/hrs/python-tf-idf\n",
    "table = tfidf.tfidf()\n",
    "table.addDocument(\"foo\", [lesks[0],lesks[1],lesks[3]])\n",
    "#table.addDocument(\"bar\", [\"alpha\", \"bravo\", \"charlie\", \"india\", \"juliet\", \"kilo\"])\n",
    "#table.addDocument(\"baz\", [\"kilo\", \"lima\", \"mike\", \"november\"])\n",
    "\n",
    "#print (table.similarities ([lesks[0],lesks[1],lesks[3]]))"
   ]
  },
  {
   "cell_type": "code",
   "execution_count": 28,
   "metadata": {
    "collapsed": false,
    "deletable": true,
    "editable": true
   },
   "outputs": [],
   "source": [
    "import pandas as pd\n",
    "from pandas import Series, DataFrame\n"
   ]
  },
  {
   "cell_type": "code",
   "execution_count": 29,
   "metadata": {
    "collapsed": false,
    "deletable": true,
    "editable": true
   },
   "outputs": [],
   "source": [
    "#df"
   ]
  },
  {
   "cell_type": "markdown",
   "metadata": {
    "deletable": true,
    "editable": true
   },
   "source": [
    "# Pragraph Words Similarty"
   ]
  },
  {
   "cell_type": "code",
   "execution_count": 155,
   "metadata": {
    "collapsed": false
   },
   "outputs": [],
   "source": [
    "'''\n",
    "calculate IC(p(C1)) per feature and \n",
    "'''\n",
    "'''\n",
    "get lesk of vector per pragraph\n",
    "'''\n",
    "\n",
    "def pragraph_lesks(pragraph,option):\n",
    "    lesk_vec=[]# synset lesk of words per pragraph\n",
    "    #synset_lesk_noDuplicates=[]\n",
    "    Sentences=pragraph_to_setnences(pragraph)\n",
    "    for sentence in Sentences:\n",
    "        Words=remove_stopword_sentences(sentence)\n",
    "        for word in Words:\n",
    "            lesk_synset=lesk_word_sentence(word,sentence)\n",
    "            if lesk_synset is not None:\n",
    "                lesk_vec.append(lesk_synset)\n",
    "\n",
    "    return lesk_vec\n",
    "\n",
    "    "
   ]
  },
  {
   "cell_type": "code",
   "execution_count": 301,
   "metadata": {
    "collapsed": false
   },
   "outputs": [],
   "source": [
    "lesk_vec=pragraph_lesks(pragraphs[2],'res')"
   ]
  },
  {
   "cell_type": "code",
   "execution_count": 302,
   "metadata": {
    "collapsed": true
   },
   "outputs": [],
   "source": [
    "'''\n",
    "Cleaning vector per paragraph by the follow:\n",
    "    Count Frequancy \n",
    "    Remove Nane values\n",
    "    Remove Redundant \n",
    "    Dimensionality reduction based filter of lesk of vector per paragraph\n",
    "    retrieve  Data frame contains remaining of lesk of vector per paragraph with frequencies\n",
    "'''\n",
    "def Dimensionality_reduction(lesk_vec):\n",
    "    #Count Freq\n",
    "    lesk_vec_before_reduction=count_freq(lesk_vec)\n",
    "    lesk_vec_after_freq=DataFrame.dropna(lesk_vec_before_reduction[lesk_vec_before_reduction.ix['Freq':] > 1].T).T\n",
    "    return lesk_vec_after_freq\n",
    "    #total=df_freq.values.sum().sum()"
   ]
  },
  {
   "cell_type": "code",
   "execution_count": 303,
   "metadata": {
    "collapsed": false
   },
   "outputs": [
    {
     "data": {
      "text/html": [
       "<div>\n",
       "<table border=\"1\" class=\"dataframe\">\n",
       "  <thead>\n",
       "    <tr style=\"text-align: right;\">\n",
       "      <th></th>\n",
       "      <th>Synset('science.n.01')</th>\n",
       "      <th>Synset('computer.n.01')</th>\n",
       "    </tr>\n",
       "  </thead>\n",
       "  <tbody>\n",
       "    <tr>\n",
       "      <th>Freq</th>\n",
       "      <td>3.0</td>\n",
       "      <td>4.0</td>\n",
       "    </tr>\n",
       "  </tbody>\n",
       "</table>\n",
       "</div>"
      ],
      "text/plain": [
       "      Synset('science.n.01')  Synset('computer.n.01')\n",
       "Freq                     3.0                      4.0"
      ]
     },
     "execution_count": 303,
     "metadata": {},
     "output_type": "execute_result"
    }
   ],
   "source": [
    "lesk_vec_after_Dimensionality_reduction=Dimensionality_reduction(lesk_vec)\n",
    "lesk_vec_after_Dimensionality_reduction"
   ]
  },
  {
   "cell_type": "code",
   "execution_count": 304,
   "metadata": {
    "collapsed": false
   },
   "outputs": [],
   "source": [
    "\n",
    "'''\n",
    "Cleaning vector per paragraph by the follow:\n",
    "    Count Frequancy \n",
    "    Remove Nane values\n",
    "    Remove Redundant \n",
    "    Dimensionality reduction based filter of lesk of vector per paragraph\n",
    "    retrieve  Data frame contains remaining of lesk of vector per paragraph with frequencies and ratio\n",
    "'''\n",
    "\n",
    "def Dimensionality_reduction_with_ratio(lesk_vec):\n",
    "    #Count Freq\n",
    "    lesk_vec_before_reduction=count_freq(lesk_vec)\n",
    "    lesk_vec_after_freq=DataFrame.dropna(lesk_vec_before_reduction[lesk_vec_before_reduction.ix['Freq':] > 1].T)\n",
    "    \n",
    "    total=lesk_vec_after_freq.values.sum().sum()\n",
    "    lesk_vec_after_freq['Ratio']=(lesk_vec_after_freq['Freq']/total)\n",
    "    \n",
    "    return lesk_vec_after_freq.T"
   ]
  },
  {
   "cell_type": "code",
   "execution_count": 305,
   "metadata": {
    "collapsed": false
   },
   "outputs": [
    {
     "data": {
      "text/html": [
       "<div>\n",
       "<table border=\"1\" class=\"dataframe\">\n",
       "  <thead>\n",
       "    <tr style=\"text-align: right;\">\n",
       "      <th></th>\n",
       "      <th>Synset('science.n.01')</th>\n",
       "      <th>Synset('computer.n.01')</th>\n",
       "    </tr>\n",
       "  </thead>\n",
       "  <tbody>\n",
       "    <tr>\n",
       "      <th>Freq</th>\n",
       "      <td>3.000000</td>\n",
       "      <td>4.000000</td>\n",
       "    </tr>\n",
       "    <tr>\n",
       "      <th>Ratio</th>\n",
       "      <td>0.428571</td>\n",
       "      <td>0.571429</td>\n",
       "    </tr>\n",
       "  </tbody>\n",
       "</table>\n",
       "</div>"
      ],
      "text/plain": [
       "       Synset('science.n.01')  Synset('computer.n.01')\n",
       "Freq                 3.000000                 4.000000\n",
       "Ratio                0.428571                 0.571429"
      ]
     },
     "execution_count": 305,
     "metadata": {},
     "output_type": "execute_result"
    }
   ],
   "source": [
    "rmv_red_ratio=Dimensionality_reduction_with_ratio(lesk_vec)\n",
    "rmv_red_ratio"
   ]
  },
  {
   "cell_type": "code",
   "execution_count": 306,
   "metadata": {
    "collapsed": false
   },
   "outputs": [],
   "source": [
    "'''\n",
    "calculate simantic simelart for Dimensionality reduction vector\n",
    "say vector is n element [n1,n2,n3,.....nm], data frame row=n,col=n\n",
    "sim(n[row],n[col])if if row != col:\n",
    "option is sim method like res,lin,jcn ...... for IC\n",
    "\n",
    "'''\n",
    "\n",
    "\n",
    "def sim_pragraph_lesk(df_freq,option):\n",
    "    \n",
    "    series=list(df_freq)#pd.Series(data=lesk_vec)\n",
    "    #series.drop_duplicates()\n",
    "    synset_lesk_noDuplicates= series#.tolist()    \n",
    "    df_all_synset_lesk = pd.DataFrame(index=series, columns=series )            \n",
    "    #print (\"synset_lesk_noDuplicates\",len(synset_lesk_noDuplicates))\n",
    "    \n",
    "    for row in range(len(synset_lesk_noDuplicates)):\n",
    "        try:\n",
    "            data_row=[]\n",
    "            for col in range(len(synset_lesk_noDuplicates)):\n",
    "\n",
    "                    if row != col:\n",
    "\n",
    "                        sim=similarity_by_infocontent(series[row],series[col],option)\n",
    "                        if sim is not None:\n",
    "                            data_row.append(sim)\n",
    "                        else:\n",
    "                            data_row.append(0)\n",
    "                        #print(len(data_row))\n",
    "\n",
    "\n",
    "                    else:\n",
    "\n",
    "                        data_row.append(0)\n",
    "                        #print(len(data_row))\n",
    "\n",
    "            #print(series[row])\n",
    "            df_all_synset_lesk.loc[series[row]]=data_row\n",
    "        except  Exception as inst:\n",
    "                data_row.append(0)\n",
    "                print(type(inst))    # the exception instance\n",
    "                print(inst.args)     # arguments stored in .args\n",
    "                print(inst)          # __str__ allows args to be printed directly,\n",
    "                pass\n",
    "                #print(\"Ex\")\n",
    "    return df_all_synset_lesk\n",
    "\n"
   ]
  },
  {
   "cell_type": "code",
   "execution_count": 312,
   "metadata": {
    "collapsed": false
   },
   "outputs": [
    {
     "data": {
      "text/html": [
       "<div>\n",
       "<table border=\"1\" class=\"dataframe\">\n",
       "  <thead>\n",
       "    <tr style=\"text-align: right;\">\n",
       "      <th></th>\n",
       "      <th>Synset('trouble.n.01')</th>\n",
       "      <th>Synset('must.n.01')</th>\n",
       "      <th>Synset('terminus.n.03')</th>\n",
       "      <th>Synset('resolution.n.04')</th>\n",
       "      <th>Synset('computer.n.01')</th>\n",
       "      <th>Synset('science.n.01')</th>\n",
       "    </tr>\n",
       "  </thead>\n",
       "  <tbody>\n",
       "    <tr>\n",
       "      <th>Synset('trouble.n.01')</th>\n",
       "      <td>0</td>\n",
       "      <td>-0</td>\n",
       "      <td>0.622355</td>\n",
       "      <td>1.78127</td>\n",
       "      <td>-0</td>\n",
       "      <td>3.08626</td>\n",
       "    </tr>\n",
       "    <tr>\n",
       "      <th>Synset('must.n.01')</th>\n",
       "      <td>-0</td>\n",
       "      <td>0</td>\n",
       "      <td>0.769715</td>\n",
       "      <td>-0</td>\n",
       "      <td>0.769715</td>\n",
       "      <td>-0</td>\n",
       "    </tr>\n",
       "    <tr>\n",
       "      <th>Synset('terminus.n.03')</th>\n",
       "      <td>0.622355</td>\n",
       "      <td>0.769715</td>\n",
       "      <td>0</td>\n",
       "      <td>0.622355</td>\n",
       "      <td>2.56104</td>\n",
       "      <td>0.622355</td>\n",
       "    </tr>\n",
       "    <tr>\n",
       "      <th>Synset('resolution.n.04')</th>\n",
       "      <td>1.78127</td>\n",
       "      <td>-0</td>\n",
       "      <td>0.622355</td>\n",
       "      <td>0</td>\n",
       "      <td>-0</td>\n",
       "      <td>1.78127</td>\n",
       "    </tr>\n",
       "    <tr>\n",
       "      <th>Synset('computer.n.01')</th>\n",
       "      <td>-0</td>\n",
       "      <td>0.769715</td>\n",
       "      <td>2.56104</td>\n",
       "      <td>-0</td>\n",
       "      <td>0</td>\n",
       "      <td>-0</td>\n",
       "    </tr>\n",
       "    <tr>\n",
       "      <th>Synset('science.n.01')</th>\n",
       "      <td>3.08626</td>\n",
       "      <td>-0</td>\n",
       "      <td>0.622355</td>\n",
       "      <td>1.78127</td>\n",
       "      <td>-0</td>\n",
       "      <td>0</td>\n",
       "    </tr>\n",
       "  </tbody>\n",
       "</table>\n",
       "</div>"
      ],
      "text/plain": [
       "                          Synset('trouble.n.01') Synset('must.n.01')  \\\n",
       "Synset('trouble.n.01')                         0                  -0   \n",
       "Synset('must.n.01')                           -0                   0   \n",
       "Synset('terminus.n.03')                 0.622355            0.769715   \n",
       "Synset('resolution.n.04')                1.78127                  -0   \n",
       "Synset('computer.n.01')                       -0            0.769715   \n",
       "Synset('science.n.01')                   3.08626                  -0   \n",
       "\n",
       "                          Synset('terminus.n.03') Synset('resolution.n.04')  \\\n",
       "Synset('trouble.n.01')                   0.622355                   1.78127   \n",
       "Synset('must.n.01')                      0.769715                        -0   \n",
       "Synset('terminus.n.03')                         0                  0.622355   \n",
       "Synset('resolution.n.04')                0.622355                         0   \n",
       "Synset('computer.n.01')                   2.56104                        -0   \n",
       "Synset('science.n.01')                   0.622355                   1.78127   \n",
       "\n",
       "                          Synset('computer.n.01') Synset('science.n.01')  \n",
       "Synset('trouble.n.01')                         -0                3.08626  \n",
       "Synset('must.n.01')                      0.769715                     -0  \n",
       "Synset('terminus.n.03')                   2.56104               0.622355  \n",
       "Synset('resolution.n.04')                      -0                1.78127  \n",
       "Synset('computer.n.01')                         0                     -0  \n",
       "Synset('science.n.01')                         -0                      0  "
      ]
     },
     "execution_count": 312,
     "metadata": {},
     "output_type": "execute_result"
    }
   ],
   "source": [
    "sim_lesk_vec_after_Dimensionality_reduction=sim_pragraph_lesk(lesk_vec_after_redundant,'res')\n",
    "sim_lesk_vec_after_Dimensionality_reduction"
   ]
  },
  {
   "cell_type": "code",
   "execution_count": 308,
   "metadata": {
    "collapsed": true
   },
   "outputs": [],
   "source": [
    "'''\n",
    "calculate similartyin_pragraph\n",
    "\n",
    "'''\n",
    "\n",
    "def similarty_pragraph(pragraph,option):\n",
    "    lesk_vec=pragraph_lesks(pragraph,option)\n",
    "    lesk_vec_after_Dimensionality_reduction=Dimensionality_reduction(lesk_vec)\n",
    "    sim_lesk_vec_after_Dimensionality_reduction=sim_pragraph_lesk(lesk_vec_after_redundant,option)\n",
    "    return sim_lesk_vec_after_Dimensionality_reduction\n",
    "    "
   ]
  },
  {
   "cell_type": "code",
   "execution_count": 313,
   "metadata": {
    "collapsed": false
   },
   "outputs": [
    {
     "data": {
      "text/html": [
       "<div>\n",
       "<table border=\"1\" class=\"dataframe\">\n",
       "  <thead>\n",
       "    <tr style=\"text-align: right;\">\n",
       "      <th></th>\n",
       "      <th>Synset('trouble.n.01')</th>\n",
       "      <th>Synset('must.n.01')</th>\n",
       "      <th>Synset('terminus.n.03')</th>\n",
       "      <th>Synset('resolution.n.04')</th>\n",
       "      <th>Synset('computer.n.01')</th>\n",
       "      <th>Synset('science.n.01')</th>\n",
       "    </tr>\n",
       "  </thead>\n",
       "  <tbody>\n",
       "    <tr>\n",
       "      <th>Synset('trouble.n.01')</th>\n",
       "      <td>0</td>\n",
       "      <td>-0</td>\n",
       "      <td>0.622355</td>\n",
       "      <td>1.78127</td>\n",
       "      <td>-0</td>\n",
       "      <td>3.08626</td>\n",
       "    </tr>\n",
       "    <tr>\n",
       "      <th>Synset('must.n.01')</th>\n",
       "      <td>-0</td>\n",
       "      <td>0</td>\n",
       "      <td>0.769715</td>\n",
       "      <td>-0</td>\n",
       "      <td>0.769715</td>\n",
       "      <td>-0</td>\n",
       "    </tr>\n",
       "    <tr>\n",
       "      <th>Synset('terminus.n.03')</th>\n",
       "      <td>0.622355</td>\n",
       "      <td>0.769715</td>\n",
       "      <td>0</td>\n",
       "      <td>0.622355</td>\n",
       "      <td>2.56104</td>\n",
       "      <td>0.622355</td>\n",
       "    </tr>\n",
       "    <tr>\n",
       "      <th>Synset('resolution.n.04')</th>\n",
       "      <td>1.78127</td>\n",
       "      <td>-0</td>\n",
       "      <td>0.622355</td>\n",
       "      <td>0</td>\n",
       "      <td>-0</td>\n",
       "      <td>1.78127</td>\n",
       "    </tr>\n",
       "    <tr>\n",
       "      <th>Synset('computer.n.01')</th>\n",
       "      <td>-0</td>\n",
       "      <td>0.769715</td>\n",
       "      <td>2.56104</td>\n",
       "      <td>-0</td>\n",
       "      <td>0</td>\n",
       "      <td>-0</td>\n",
       "    </tr>\n",
       "    <tr>\n",
       "      <th>Synset('science.n.01')</th>\n",
       "      <td>3.08626</td>\n",
       "      <td>-0</td>\n",
       "      <td>0.622355</td>\n",
       "      <td>1.78127</td>\n",
       "      <td>-0</td>\n",
       "      <td>0</td>\n",
       "    </tr>\n",
       "  </tbody>\n",
       "</table>\n",
       "</div>"
      ],
      "text/plain": [
       "                          Synset('trouble.n.01') Synset('must.n.01')  \\\n",
       "Synset('trouble.n.01')                         0                  -0   \n",
       "Synset('must.n.01')                           -0                   0   \n",
       "Synset('terminus.n.03')                 0.622355            0.769715   \n",
       "Synset('resolution.n.04')                1.78127                  -0   \n",
       "Synset('computer.n.01')                       -0            0.769715   \n",
       "Synset('science.n.01')                   3.08626                  -0   \n",
       "\n",
       "                          Synset('terminus.n.03') Synset('resolution.n.04')  \\\n",
       "Synset('trouble.n.01')                   0.622355                   1.78127   \n",
       "Synset('must.n.01')                      0.769715                        -0   \n",
       "Synset('terminus.n.03')                         0                  0.622355   \n",
       "Synset('resolution.n.04')                0.622355                         0   \n",
       "Synset('computer.n.01')                   2.56104                        -0   \n",
       "Synset('science.n.01')                   0.622355                   1.78127   \n",
       "\n",
       "                          Synset('computer.n.01') Synset('science.n.01')  \n",
       "Synset('trouble.n.01')                         -0                3.08626  \n",
       "Synset('must.n.01')                      0.769715                     -0  \n",
       "Synset('terminus.n.03')                   2.56104               0.622355  \n",
       "Synset('resolution.n.04')                      -0                1.78127  \n",
       "Synset('computer.n.01')                         0                     -0  \n",
       "Synset('science.n.01')                         -0                      0  "
      ]
     },
     "execution_count": 313,
     "metadata": {},
     "output_type": "execute_result"
    }
   ],
   "source": [
    "res_df=similarty_pragraph(pragraphs[2],'res')\n",
    "res_df\n",
    "#res_df.to_csv('res_df.csv')\n",
    "\n"
   ]
  },
  {
   "cell_type": "code",
   "execution_count": 314,
   "metadata": {
    "collapsed": false
   },
   "outputs": [
    {
     "data": {
      "text/html": [
       "<div>\n",
       "<table border=\"1\" class=\"dataframe\">\n",
       "  <thead>\n",
       "    <tr style=\"text-align: right;\">\n",
       "      <th></th>\n",
       "      <th>Synset('trouble.n.01')</th>\n",
       "      <th>Synset('must.n.01')</th>\n",
       "      <th>Synset('terminus.n.03')</th>\n",
       "      <th>Synset('resolution.n.04')</th>\n",
       "      <th>Synset('computer.n.01')</th>\n",
       "      <th>Synset('science.n.01')</th>\n",
       "    </tr>\n",
       "  </thead>\n",
       "  <tbody>\n",
       "    <tr>\n",
       "      <th>Synset('trouble.n.01')</th>\n",
       "      <td>0</td>\n",
       "      <td>0.0602295</td>\n",
       "      <td>0.067755</td>\n",
       "      <td>0.0673022</td>\n",
       "      <td>0.066154</td>\n",
       "      <td>0.111446</td>\n",
       "    </tr>\n",
       "    <tr>\n",
       "      <th>Synset('must.n.01')</th>\n",
       "      <td>0.0602295</td>\n",
       "      <td>0</td>\n",
       "      <td>0.06669</td>\n",
       "      <td>0.0523072</td>\n",
       "      <td>0.0697054</td>\n",
       "      <td>0.0629815</td>\n",
       "    </tr>\n",
       "    <tr>\n",
       "      <th>Synset('terminus.n.03')</th>\n",
       "      <td>0.067755</td>\n",
       "      <td>0.06669</td>\n",
       "      <td>0</td>\n",
       "      <td>0.0578914</td>\n",
       "      <td>0.0940726</td>\n",
       "      <td>0.0712577</td>\n",
       "    </tr>\n",
       "    <tr>\n",
       "      <th>Synset('resolution.n.04')</th>\n",
       "      <td>0.0673022</td>\n",
       "      <td>0.0523072</td>\n",
       "      <td>0.0578914</td>\n",
       "      <td>0</td>\n",
       "      <td>0.0567186</td>\n",
       "      <td>0.070757</td>\n",
       "    </tr>\n",
       "    <tr>\n",
       "      <th>Synset('computer.n.01')</th>\n",
       "      <td>0.066154</td>\n",
       "      <td>0.0697054</td>\n",
       "      <td>0.0940726</td>\n",
       "      <td>0.0567186</td>\n",
       "      <td>0</td>\n",
       "      <td>0.069489</td>\n",
       "    </tr>\n",
       "    <tr>\n",
       "      <th>Synset('science.n.01')</th>\n",
       "      <td>0.111446</td>\n",
       "      <td>0.0629815</td>\n",
       "      <td>0.0712577</td>\n",
       "      <td>0.070757</td>\n",
       "      <td>0.069489</td>\n",
       "      <td>0</td>\n",
       "    </tr>\n",
       "  </tbody>\n",
       "</table>\n",
       "</div>"
      ],
      "text/plain": [
       "                          Synset('trouble.n.01') Synset('must.n.01')  \\\n",
       "Synset('trouble.n.01')                         0           0.0602295   \n",
       "Synset('must.n.01')                    0.0602295                   0   \n",
       "Synset('terminus.n.03')                 0.067755             0.06669   \n",
       "Synset('resolution.n.04')              0.0673022           0.0523072   \n",
       "Synset('computer.n.01')                 0.066154           0.0697054   \n",
       "Synset('science.n.01')                  0.111446           0.0629815   \n",
       "\n",
       "                          Synset('terminus.n.03') Synset('resolution.n.04')  \\\n",
       "Synset('trouble.n.01')                   0.067755                 0.0673022   \n",
       "Synset('must.n.01')                       0.06669                 0.0523072   \n",
       "Synset('terminus.n.03')                         0                 0.0578914   \n",
       "Synset('resolution.n.04')               0.0578914                         0   \n",
       "Synset('computer.n.01')                 0.0940726                 0.0567186   \n",
       "Synset('science.n.01')                  0.0712577                  0.070757   \n",
       "\n",
       "                          Synset('computer.n.01') Synset('science.n.01')  \n",
       "Synset('trouble.n.01')                   0.066154               0.111446  \n",
       "Synset('must.n.01')                     0.0697054              0.0629815  \n",
       "Synset('terminus.n.03')                 0.0940726              0.0712577  \n",
       "Synset('resolution.n.04')               0.0567186               0.070757  \n",
       "Synset('computer.n.01')                         0               0.069489  \n",
       "Synset('science.n.01')                   0.069489                      0  "
      ]
     },
     "execution_count": 314,
     "metadata": {},
     "output_type": "execute_result"
    }
   ],
   "source": [
    "jcn_df=similarty_pragraph(pragraphs[2],'jcn')\n",
    "jcn_df"
   ]
  },
  {
   "cell_type": "code",
   "execution_count": 315,
   "metadata": {
    "collapsed": false
   },
   "outputs": [
    {
     "data": {
      "text/html": [
       "<div>\n",
       "<table border=\"1\" class=\"dataframe\">\n",
       "  <thead>\n",
       "    <tr style=\"text-align: right;\">\n",
       "      <th></th>\n",
       "      <th>Synset('trouble.n.01')</th>\n",
       "      <th>Synset('must.n.01')</th>\n",
       "      <th>Synset('terminus.n.03')</th>\n",
       "      <th>Synset('resolution.n.04')</th>\n",
       "      <th>Synset('computer.n.01')</th>\n",
       "      <th>Synset('science.n.01')</th>\n",
       "    </tr>\n",
       "  </thead>\n",
       "  <tbody>\n",
       "    <tr>\n",
       "      <th>Synset('trouble.n.01')</th>\n",
       "      <td>0</td>\n",
       "      <td>-0</td>\n",
       "      <td>0.0638035</td>\n",
       "      <td>0.175876</td>\n",
       "      <td>-0</td>\n",
       "      <td>0.393272</td>\n",
       "    </tr>\n",
       "    <tr>\n",
       "      <th>Synset('must.n.01')</th>\n",
       "      <td>-0</td>\n",
       "      <td>0</td>\n",
       "      <td>0.110286</td>\n",
       "      <td>-0</td>\n",
       "      <td>0.114701</td>\n",
       "      <td>-0</td>\n",
       "    </tr>\n",
       "    <tr>\n",
       "      <th>Synset('terminus.n.03')</th>\n",
       "      <td>0.0638035</td>\n",
       "      <td>0.110286</td>\n",
       "      <td>0</td>\n",
       "      <td>0.0550262</td>\n",
       "      <td>0.308232</td>\n",
       "      <td>0.0668813</td>\n",
       "    </tr>\n",
       "    <tr>\n",
       "      <th>Synset('resolution.n.04')</th>\n",
       "      <td>0.175876</td>\n",
       "      <td>-0</td>\n",
       "      <td>0.0550262</td>\n",
       "      <td>0</td>\n",
       "      <td>-0</td>\n",
       "      <td>0.18325</td>\n",
       "    </tr>\n",
       "    <tr>\n",
       "      <th>Synset('computer.n.01')</th>\n",
       "      <td>-0</td>\n",
       "      <td>0.114701</td>\n",
       "      <td>0.308232</td>\n",
       "      <td>-0</td>\n",
       "      <td>0</td>\n",
       "      <td>-0</td>\n",
       "    </tr>\n",
       "    <tr>\n",
       "      <th>Synset('science.n.01')</th>\n",
       "      <td>0.393272</td>\n",
       "      <td>-0</td>\n",
       "      <td>0.0668813</td>\n",
       "      <td>0.18325</td>\n",
       "      <td>-0</td>\n",
       "      <td>0</td>\n",
       "    </tr>\n",
       "  </tbody>\n",
       "</table>\n",
       "</div>"
      ],
      "text/plain": [
       "                          Synset('trouble.n.01') Synset('must.n.01')  \\\n",
       "Synset('trouble.n.01')                         0                  -0   \n",
       "Synset('must.n.01')                           -0                   0   \n",
       "Synset('terminus.n.03')                0.0638035            0.110286   \n",
       "Synset('resolution.n.04')               0.175876                  -0   \n",
       "Synset('computer.n.01')                       -0            0.114701   \n",
       "Synset('science.n.01')                  0.393272                  -0   \n",
       "\n",
       "                          Synset('terminus.n.03') Synset('resolution.n.04')  \\\n",
       "Synset('trouble.n.01')                  0.0638035                  0.175876   \n",
       "Synset('must.n.01')                      0.110286                        -0   \n",
       "Synset('terminus.n.03')                         0                 0.0550262   \n",
       "Synset('resolution.n.04')               0.0550262                         0   \n",
       "Synset('computer.n.01')                  0.308232                        -0   \n",
       "Synset('science.n.01')                  0.0668813                   0.18325   \n",
       "\n",
       "                          Synset('computer.n.01') Synset('science.n.01')  \n",
       "Synset('trouble.n.01')                         -0               0.393272  \n",
       "Synset('must.n.01')                      0.114701                     -0  \n",
       "Synset('terminus.n.03')                  0.308232              0.0668813  \n",
       "Synset('resolution.n.04')                      -0                0.18325  \n",
       "Synset('computer.n.01')                         0                     -0  \n",
       "Synset('science.n.01')                         -0                      0  "
      ]
     },
     "execution_count": 315,
     "metadata": {},
     "output_type": "execute_result"
    }
   ],
   "source": [
    "lin_df=similarty_pragraph(pragraphs[2],'lin')\n",
    "lin_df"
   ]
  },
  {
   "cell_type": "markdown",
   "metadata": {},
   "source": [
    "# Classfication per pragraph"
   ]
  },
  {
   "cell_type": "code",
   "execution_count": 194,
   "metadata": {
    "collapsed": false
   },
   "outputs": [],
   "source": [
    "'''\n",
    "to calculate (IC(c1) + IC(c2 )) by res and jcn\n",
    "'''\n",
    "\n",
    "def p_IC_C(res_df,jcn_df):\n",
    "    ic=2*(res_df.values)\n",
    "    pic= pd.DataFrame(jcn_df.values+ic,index=res_df.index, columns=res_df.columns)\n",
    "    \n",
    "    return pic"
   ]
  },
  {
   "cell_type": "code",
   "execution_count": 241,
   "metadata": {
    "collapsed": false
   },
   "outputs": [
    {
     "data": {
      "text/html": [
       "<div>\n",
       "<table border=\"1\" class=\"dataframe\">\n",
       "  <thead>\n",
       "    <tr style=\"text-align: right;\">\n",
       "      <th></th>\n",
       "      <th>Synset('trouble.n.01')</th>\n",
       "      <th>Synset('must.n.01')</th>\n",
       "      <th>Synset('terminus.n.03')</th>\n",
       "      <th>Synset('resolution.n.04')</th>\n",
       "      <th>Synset('computer.n.01')</th>\n",
       "      <th>Synset('science.n.01')</th>\n",
       "    </tr>\n",
       "  </thead>\n",
       "  <tbody>\n",
       "    <tr>\n",
       "      <th>Synset('trouble.n.01')</th>\n",
       "      <td>0</td>\n",
       "      <td>0.0602295</td>\n",
       "      <td>1.31246</td>\n",
       "      <td>3.62984</td>\n",
       "      <td>0.066154</td>\n",
       "      <td>6.28397</td>\n",
       "    </tr>\n",
       "    <tr>\n",
       "      <th>Synset('must.n.01')</th>\n",
       "      <td>0.0602295</td>\n",
       "      <td>0</td>\n",
       "      <td>1.60612</td>\n",
       "      <td>0.0523072</td>\n",
       "      <td>1.60913</td>\n",
       "      <td>0.0629815</td>\n",
       "    </tr>\n",
       "    <tr>\n",
       "      <th>Synset('terminus.n.03')</th>\n",
       "      <td>1.31246</td>\n",
       "      <td>1.60612</td>\n",
       "      <td>0</td>\n",
       "      <td>1.3026</td>\n",
       "      <td>5.21616</td>\n",
       "      <td>1.31597</td>\n",
       "    </tr>\n",
       "    <tr>\n",
       "      <th>Synset('resolution.n.04')</th>\n",
       "      <td>3.62984</td>\n",
       "      <td>0.0523072</td>\n",
       "      <td>1.3026</td>\n",
       "      <td>0</td>\n",
       "      <td>0.0567186</td>\n",
       "      <td>3.6333</td>\n",
       "    </tr>\n",
       "    <tr>\n",
       "      <th>Synset('computer.n.01')</th>\n",
       "      <td>0.066154</td>\n",
       "      <td>1.60913</td>\n",
       "      <td>5.21616</td>\n",
       "      <td>0.0567186</td>\n",
       "      <td>0</td>\n",
       "      <td>0.069489</td>\n",
       "    </tr>\n",
       "    <tr>\n",
       "      <th>Synset('science.n.01')</th>\n",
       "      <td>6.28397</td>\n",
       "      <td>0.0629815</td>\n",
       "      <td>1.31597</td>\n",
       "      <td>3.6333</td>\n",
       "      <td>0.069489</td>\n",
       "      <td>0</td>\n",
       "    </tr>\n",
       "  </tbody>\n",
       "</table>\n",
       "</div>"
      ],
      "text/plain": [
       "                          Synset('trouble.n.01') Synset('must.n.01')  \\\n",
       "Synset('trouble.n.01')                         0           0.0602295   \n",
       "Synset('must.n.01')                    0.0602295                   0   \n",
       "Synset('terminus.n.03')                  1.31246             1.60612   \n",
       "Synset('resolution.n.04')                3.62984           0.0523072   \n",
       "Synset('computer.n.01')                 0.066154             1.60913   \n",
       "Synset('science.n.01')                   6.28397           0.0629815   \n",
       "\n",
       "                          Synset('terminus.n.03') Synset('resolution.n.04')  \\\n",
       "Synset('trouble.n.01')                    1.31246                   3.62984   \n",
       "Synset('must.n.01')                       1.60612                 0.0523072   \n",
       "Synset('terminus.n.03')                         0                    1.3026   \n",
       "Synset('resolution.n.04')                  1.3026                         0   \n",
       "Synset('computer.n.01')                   5.21616                 0.0567186   \n",
       "Synset('science.n.01')                    1.31597                    3.6333   \n",
       "\n",
       "                          Synset('computer.n.01') Synset('science.n.01')  \n",
       "Synset('trouble.n.01')                   0.066154                6.28397  \n",
       "Synset('must.n.01')                       1.60913              0.0629815  \n",
       "Synset('terminus.n.03')                   5.21616                1.31597  \n",
       "Synset('resolution.n.04')               0.0567186                 3.6333  \n",
       "Synset('computer.n.01')                         0               0.069489  \n",
       "Synset('science.n.01')                   0.069489                      0  "
      ]
     },
     "execution_count": 241,
     "metadata": {},
     "output_type": "execute_result"
    }
   ],
   "source": [
    "df=p_IC_C(res_df,jcn_df)\n",
    "df"
   ]
  },
  {
   "cell_type": "code",
   "execution_count": 240,
   "metadata": {
    "collapsed": true
   },
   "outputs": [],
   "source": [
    "'''\n",
    "to calculate mean per colum and ratio of this mean for any matrix \n",
    "'''\n",
    "\n",
    "def add_mean_ratio(df):\n",
    "    inverse_df=df.T\n",
    "\n",
    "    inverse_df['Mean']=inverse_df.apply(np.mean)\n",
    "    total=inverse_df.values.sum()\n",
    "\n",
    "    #ss['Max']=ss.apply(np.max)\n",
    "    #ss['MIN']=ss.apply(np.min)\n",
    "    #ss['Total']=ss.apply(np.sum) #[col,row] #.apply(np.mean)\n",
    "    #ss.groupby(\"Mean\").sum()\n",
    "    total_mean=inverse_df['Mean'].sum()\n",
    "\n",
    "    inverse_df['Ratio_mean']=inverse_df['Mean']/total_mean#ss.apply(np.mean)\n",
    "    #ss['RATIO']=ss.apply(ss['Mean']/ss['Total'])\n",
    "    return inverse_df.T\n",
    "    "
   ]
  },
  {
   "cell_type": "code",
   "execution_count": 245,
   "metadata": {
    "collapsed": false
   },
   "outputs": [
    {
     "data": {
      "text/html": [
       "<div>\n",
       "<table border=\"1\" class=\"dataframe\">\n",
       "  <thead>\n",
       "    <tr style=\"text-align: right;\">\n",
       "      <th></th>\n",
       "      <th>Synset('trouble.n.01')</th>\n",
       "      <th>Synset('must.n.01')</th>\n",
       "      <th>Synset('terminus.n.03')</th>\n",
       "      <th>Synset('resolution.n.04')</th>\n",
       "      <th>Synset('computer.n.01')</th>\n",
       "      <th>Synset('science.n.01')</th>\n",
       "    </tr>\n",
       "  </thead>\n",
       "  <tbody>\n",
       "    <tr>\n",
       "      <th>Synset('trouble.n.01')</th>\n",
       "      <td>0</td>\n",
       "      <td>-0</td>\n",
       "      <td>0.622355</td>\n",
       "      <td>1.78127</td>\n",
       "      <td>-0</td>\n",
       "      <td>3.08626</td>\n",
       "    </tr>\n",
       "    <tr>\n",
       "      <th>Synset('must.n.01')</th>\n",
       "      <td>-0</td>\n",
       "      <td>0</td>\n",
       "      <td>0.769715</td>\n",
       "      <td>-0</td>\n",
       "      <td>0.769715</td>\n",
       "      <td>-0</td>\n",
       "    </tr>\n",
       "    <tr>\n",
       "      <th>Synset('terminus.n.03')</th>\n",
       "      <td>0.622355</td>\n",
       "      <td>0.769715</td>\n",
       "      <td>0</td>\n",
       "      <td>0.622355</td>\n",
       "      <td>2.56104</td>\n",
       "      <td>0.622355</td>\n",
       "    </tr>\n",
       "    <tr>\n",
       "      <th>Synset('resolution.n.04')</th>\n",
       "      <td>1.78127</td>\n",
       "      <td>-0</td>\n",
       "      <td>0.622355</td>\n",
       "      <td>0</td>\n",
       "      <td>-0</td>\n",
       "      <td>1.78127</td>\n",
       "    </tr>\n",
       "    <tr>\n",
       "      <th>Synset('computer.n.01')</th>\n",
       "      <td>-0</td>\n",
       "      <td>0.769715</td>\n",
       "      <td>2.56104</td>\n",
       "      <td>-0</td>\n",
       "      <td>0</td>\n",
       "      <td>-0</td>\n",
       "    </tr>\n",
       "    <tr>\n",
       "      <th>Synset('science.n.01')</th>\n",
       "      <td>3.08626</td>\n",
       "      <td>-0</td>\n",
       "      <td>0.622355</td>\n",
       "      <td>1.78127</td>\n",
       "      <td>-0</td>\n",
       "      <td>0</td>\n",
       "    </tr>\n",
       "    <tr>\n",
       "      <th>Mean</th>\n",
       "      <td>0.914981</td>\n",
       "      <td>0.256572</td>\n",
       "      <td>0.866304</td>\n",
       "      <td>0.697482</td>\n",
       "      <td>0.555127</td>\n",
       "      <td>0.914981</td>\n",
       "    </tr>\n",
       "    <tr>\n",
       "      <th>Ratio_mean</th>\n",
       "      <td>0.21757</td>\n",
       "      <td>0.0610093</td>\n",
       "      <td>0.205996</td>\n",
       "      <td>0.165852</td>\n",
       "      <td>0.132002</td>\n",
       "      <td>0.21757</td>\n",
       "    </tr>\n",
       "  </tbody>\n",
       "</table>\n",
       "</div>"
      ],
      "text/plain": [
       "                          Synset('trouble.n.01') Synset('must.n.01')  \\\n",
       "Synset('trouble.n.01')                         0                  -0   \n",
       "Synset('must.n.01')                           -0                   0   \n",
       "Synset('terminus.n.03')                 0.622355            0.769715   \n",
       "Synset('resolution.n.04')                1.78127                  -0   \n",
       "Synset('computer.n.01')                       -0            0.769715   \n",
       "Synset('science.n.01')                   3.08626                  -0   \n",
       "Mean                                    0.914981            0.256572   \n",
       "Ratio_mean                               0.21757           0.0610093   \n",
       "\n",
       "                          Synset('terminus.n.03') Synset('resolution.n.04')  \\\n",
       "Synset('trouble.n.01')                   0.622355                   1.78127   \n",
       "Synset('must.n.01')                      0.769715                        -0   \n",
       "Synset('terminus.n.03')                         0                  0.622355   \n",
       "Synset('resolution.n.04')                0.622355                         0   \n",
       "Synset('computer.n.01')                   2.56104                        -0   \n",
       "Synset('science.n.01')                   0.622355                   1.78127   \n",
       "Mean                                     0.866304                  0.697482   \n",
       "Ratio_mean                               0.205996                  0.165852   \n",
       "\n",
       "                          Synset('computer.n.01') Synset('science.n.01')  \n",
       "Synset('trouble.n.01')                         -0                3.08626  \n",
       "Synset('must.n.01')                      0.769715                     -0  \n",
       "Synset('terminus.n.03')                   2.56104               0.622355  \n",
       "Synset('resolution.n.04')                      -0                1.78127  \n",
       "Synset('computer.n.01')                         0                     -0  \n",
       "Synset('science.n.01')                         -0                      0  \n",
       "Mean                                     0.555127               0.914981  \n",
       "Ratio_mean                               0.132002                0.21757  "
      ]
     },
     "execution_count": 245,
     "metadata": {},
     "output_type": "execute_result"
    }
   ],
   "source": [
    "mres_df=add_mean_ratio(res_df)\n",
    "mres_df"
   ]
  },
  {
   "cell_type": "code",
   "execution_count": 247,
   "metadata": {
    "collapsed": false
   },
   "outputs": [
    {
     "data": {
      "text/html": [
       "<div>\n",
       "<table border=\"1\" class=\"dataframe\">\n",
       "  <thead>\n",
       "    <tr style=\"text-align: right;\">\n",
       "      <th></th>\n",
       "      <th>Synset('trouble.n.01')</th>\n",
       "      <th>Synset('must.n.01')</th>\n",
       "      <th>Synset('terminus.n.03')</th>\n",
       "      <th>Synset('resolution.n.04')</th>\n",
       "      <th>Synset('computer.n.01')</th>\n",
       "      <th>Synset('science.n.01')</th>\n",
       "    </tr>\n",
       "  </thead>\n",
       "  <tbody>\n",
       "    <tr>\n",
       "      <th>Synset('trouble.n.01')</th>\n",
       "      <td>0</td>\n",
       "      <td>0.0602295</td>\n",
       "      <td>0.067755</td>\n",
       "      <td>0.0673022</td>\n",
       "      <td>0.066154</td>\n",
       "      <td>0.111446</td>\n",
       "    </tr>\n",
       "    <tr>\n",
       "      <th>Synset('must.n.01')</th>\n",
       "      <td>0.0602295</td>\n",
       "      <td>0</td>\n",
       "      <td>0.06669</td>\n",
       "      <td>0.0523072</td>\n",
       "      <td>0.0697054</td>\n",
       "      <td>0.0629815</td>\n",
       "    </tr>\n",
       "    <tr>\n",
       "      <th>Synset('terminus.n.03')</th>\n",
       "      <td>0.067755</td>\n",
       "      <td>0.06669</td>\n",
       "      <td>0</td>\n",
       "      <td>0.0578914</td>\n",
       "      <td>0.0940726</td>\n",
       "      <td>0.0712577</td>\n",
       "    </tr>\n",
       "    <tr>\n",
       "      <th>Synset('resolution.n.04')</th>\n",
       "      <td>0.0673022</td>\n",
       "      <td>0.0523072</td>\n",
       "      <td>0.0578914</td>\n",
       "      <td>0</td>\n",
       "      <td>0.0567186</td>\n",
       "      <td>0.070757</td>\n",
       "    </tr>\n",
       "    <tr>\n",
       "      <th>Synset('computer.n.01')</th>\n",
       "      <td>0.066154</td>\n",
       "      <td>0.0697054</td>\n",
       "      <td>0.0940726</td>\n",
       "      <td>0.0567186</td>\n",
       "      <td>0</td>\n",
       "      <td>0.069489</td>\n",
       "    </tr>\n",
       "    <tr>\n",
       "      <th>Synset('science.n.01')</th>\n",
       "      <td>0.111446</td>\n",
       "      <td>0.0629815</td>\n",
       "      <td>0.0712577</td>\n",
       "      <td>0.070757</td>\n",
       "      <td>0.069489</td>\n",
       "      <td>0</td>\n",
       "    </tr>\n",
       "    <tr>\n",
       "      <th>Mean</th>\n",
       "      <td>0.0621477</td>\n",
       "      <td>0.0519856</td>\n",
       "      <td>0.0596111</td>\n",
       "      <td>0.0508294</td>\n",
       "      <td>0.0593566</td>\n",
       "      <td>0.0643218</td>\n",
       "    </tr>\n",
       "    <tr>\n",
       "      <th>Ratio_mean</th>\n",
       "      <td>0.178456</td>\n",
       "      <td>0.149276</td>\n",
       "      <td>0.171172</td>\n",
       "      <td>0.145956</td>\n",
       "      <td>0.170441</td>\n",
       "      <td>0.184699</td>\n",
       "    </tr>\n",
       "  </tbody>\n",
       "</table>\n",
       "</div>"
      ],
      "text/plain": [
       "                          Synset('trouble.n.01') Synset('must.n.01')  \\\n",
       "Synset('trouble.n.01')                         0           0.0602295   \n",
       "Synset('must.n.01')                    0.0602295                   0   \n",
       "Synset('terminus.n.03')                 0.067755             0.06669   \n",
       "Synset('resolution.n.04')              0.0673022           0.0523072   \n",
       "Synset('computer.n.01')                 0.066154           0.0697054   \n",
       "Synset('science.n.01')                  0.111446           0.0629815   \n",
       "Mean                                   0.0621477           0.0519856   \n",
       "Ratio_mean                              0.178456            0.149276   \n",
       "\n",
       "                          Synset('terminus.n.03') Synset('resolution.n.04')  \\\n",
       "Synset('trouble.n.01')                   0.067755                 0.0673022   \n",
       "Synset('must.n.01')                       0.06669                 0.0523072   \n",
       "Synset('terminus.n.03')                         0                 0.0578914   \n",
       "Synset('resolution.n.04')               0.0578914                         0   \n",
       "Synset('computer.n.01')                 0.0940726                 0.0567186   \n",
       "Synset('science.n.01')                  0.0712577                  0.070757   \n",
       "Mean                                    0.0596111                 0.0508294   \n",
       "Ratio_mean                               0.171172                  0.145956   \n",
       "\n",
       "                          Synset('computer.n.01') Synset('science.n.01')  \n",
       "Synset('trouble.n.01')                   0.066154               0.111446  \n",
       "Synset('must.n.01')                     0.0697054              0.0629815  \n",
       "Synset('terminus.n.03')                 0.0940726              0.0712577  \n",
       "Synset('resolution.n.04')               0.0567186               0.070757  \n",
       "Synset('computer.n.01')                         0               0.069489  \n",
       "Synset('science.n.01')                   0.069489                      0  \n",
       "Mean                                    0.0593566              0.0643218  \n",
       "Ratio_mean                               0.170441               0.184699  "
      ]
     },
     "execution_count": 247,
     "metadata": {},
     "output_type": "execute_result"
    }
   ],
   "source": [
    "mjcn_df=add_mean_ratio(jcn_df)\n",
    "mjcn_df"
   ]
  },
  {
   "cell_type": "code",
   "execution_count": 283,
   "metadata": {
    "collapsed": false
   },
   "outputs": [
    {
     "data": {
      "text/html": [
       "<div>\n",
       "<table border=\"1\" class=\"dataframe\">\n",
       "  <thead>\n",
       "    <tr style=\"text-align: right;\">\n",
       "      <th></th>\n",
       "      <th>Synset('trouble.n.01')</th>\n",
       "      <th>Synset('must.n.01')</th>\n",
       "      <th>Synset('terminus.n.03')</th>\n",
       "      <th>Synset('resolution.n.04')</th>\n",
       "      <th>Synset('computer.n.01')</th>\n",
       "      <th>Synset('science.n.01')</th>\n",
       "    </tr>\n",
       "  </thead>\n",
       "  <tbody>\n",
       "    <tr>\n",
       "      <th>Synset('trouble.n.01')</th>\n",
       "      <td>0</td>\n",
       "      <td>0.0602295</td>\n",
       "      <td>1.31246</td>\n",
       "      <td>3.62984</td>\n",
       "      <td>0.066154</td>\n",
       "      <td>6.28397</td>\n",
       "    </tr>\n",
       "    <tr>\n",
       "      <th>Synset('must.n.01')</th>\n",
       "      <td>0.0602295</td>\n",
       "      <td>0</td>\n",
       "      <td>1.60612</td>\n",
       "      <td>0.0523072</td>\n",
       "      <td>1.60913</td>\n",
       "      <td>0.0629815</td>\n",
       "    </tr>\n",
       "    <tr>\n",
       "      <th>Synset('terminus.n.03')</th>\n",
       "      <td>1.31246</td>\n",
       "      <td>1.60612</td>\n",
       "      <td>0</td>\n",
       "      <td>1.3026</td>\n",
       "      <td>5.21616</td>\n",
       "      <td>1.31597</td>\n",
       "    </tr>\n",
       "    <tr>\n",
       "      <th>Synset('resolution.n.04')</th>\n",
       "      <td>3.62984</td>\n",
       "      <td>0.0523072</td>\n",
       "      <td>1.3026</td>\n",
       "      <td>0</td>\n",
       "      <td>0.0567186</td>\n",
       "      <td>3.6333</td>\n",
       "    </tr>\n",
       "    <tr>\n",
       "      <th>Synset('computer.n.01')</th>\n",
       "      <td>0.066154</td>\n",
       "      <td>1.60913</td>\n",
       "      <td>5.21616</td>\n",
       "      <td>0.0567186</td>\n",
       "      <td>0</td>\n",
       "      <td>0.069489</td>\n",
       "    </tr>\n",
       "    <tr>\n",
       "      <th>Synset('science.n.01')</th>\n",
       "      <td>6.28397</td>\n",
       "      <td>0.0629815</td>\n",
       "      <td>1.31597</td>\n",
       "      <td>3.6333</td>\n",
       "      <td>0.069489</td>\n",
       "      <td>0</td>\n",
       "    </tr>\n",
       "    <tr>\n",
       "      <th>Mean</th>\n",
       "      <td>1.89211</td>\n",
       "      <td>0.565129</td>\n",
       "      <td>1.79222</td>\n",
       "      <td>1.44579</td>\n",
       "      <td>1.16961</td>\n",
       "      <td>1.89428</td>\n",
       "    </tr>\n",
       "    <tr>\n",
       "      <th>Ratio_mean</th>\n",
       "      <td>0.216015</td>\n",
       "      <td>0.0645187</td>\n",
       "      <td>0.204611</td>\n",
       "      <td>0.165061</td>\n",
       "      <td>0.13353</td>\n",
       "      <td>0.216264</td>\n",
       "    </tr>\n",
       "  </tbody>\n",
       "</table>\n",
       "</div>"
      ],
      "text/plain": [
       "                          Synset('trouble.n.01') Synset('must.n.01')  \\\n",
       "Synset('trouble.n.01')                         0           0.0602295   \n",
       "Synset('must.n.01')                    0.0602295                   0   \n",
       "Synset('terminus.n.03')                  1.31246             1.60612   \n",
       "Synset('resolution.n.04')                3.62984           0.0523072   \n",
       "Synset('computer.n.01')                 0.066154             1.60913   \n",
       "Synset('science.n.01')                   6.28397           0.0629815   \n",
       "Mean                                     1.89211            0.565129   \n",
       "Ratio_mean                              0.216015           0.0645187   \n",
       "\n",
       "                          Synset('terminus.n.03') Synset('resolution.n.04')  \\\n",
       "Synset('trouble.n.01')                    1.31246                   3.62984   \n",
       "Synset('must.n.01')                       1.60612                 0.0523072   \n",
       "Synset('terminus.n.03')                         0                    1.3026   \n",
       "Synset('resolution.n.04')                  1.3026                         0   \n",
       "Synset('computer.n.01')                   5.21616                 0.0567186   \n",
       "Synset('science.n.01')                    1.31597                    3.6333   \n",
       "Mean                                      1.79222                   1.44579   \n",
       "Ratio_mean                               0.204611                  0.165061   \n",
       "\n",
       "                          Synset('computer.n.01') Synset('science.n.01')  \n",
       "Synset('trouble.n.01')                   0.066154                6.28397  \n",
       "Synset('must.n.01')                       1.60913              0.0629815  \n",
       "Synset('terminus.n.03')                   5.21616                1.31597  \n",
       "Synset('resolution.n.04')               0.0567186                 3.6333  \n",
       "Synset('computer.n.01')                         0               0.069489  \n",
       "Synset('science.n.01')                   0.069489                      0  \n",
       "Mean                                      1.16961                1.89428  \n",
       "Ratio_mean                                0.13353               0.216264  "
      ]
     },
     "execution_count": 283,
     "metadata": {},
     "output_type": "execute_result"
    }
   ],
   "source": [
    "picc=add_mean_ratio(df)\n",
    "picc"
   ]
  },
  {
   "cell_type": "code",
   "execution_count": 288,
   "metadata": {
    "collapsed": false
   },
   "outputs": [
    {
     "data": {
      "text/html": [
       "<div>\n",
       "<table border=\"1\" class=\"dataframe\">\n",
       "  <thead>\n",
       "    <tr style=\"text-align: right;\">\n",
       "      <th></th>\n",
       "      <th>Freq</th>\n",
       "      <th>Ratio</th>\n",
       "    </tr>\n",
       "  </thead>\n",
       "  <tbody>\n",
       "    <tr>\n",
       "      <th>Synset('trouble.n.01')</th>\n",
       "      <td>3.0</td>\n",
       "      <td>0.166667</td>\n",
       "    </tr>\n",
       "    <tr>\n",
       "      <th>Synset('must.n.01')</th>\n",
       "      <td>2.0</td>\n",
       "      <td>0.111111</td>\n",
       "    </tr>\n",
       "    <tr>\n",
       "      <th>Synset('terminus.n.03')</th>\n",
       "      <td>2.0</td>\n",
       "      <td>0.111111</td>\n",
       "    </tr>\n",
       "    <tr>\n",
       "      <th>Synset('resolution.n.04')</th>\n",
       "      <td>2.0</td>\n",
       "      <td>0.111111</td>\n",
       "    </tr>\n",
       "    <tr>\n",
       "      <th>Synset('computer.n.01')</th>\n",
       "      <td>6.0</td>\n",
       "      <td>0.333333</td>\n",
       "    </tr>\n",
       "    <tr>\n",
       "      <th>Synset('science.n.01')</th>\n",
       "      <td>3.0</td>\n",
       "      <td>0.166667</td>\n",
       "    </tr>\n",
       "  </tbody>\n",
       "</table>\n",
       "</div>"
      ],
      "text/plain": [
       "                           Freq     Ratio\n",
       "Synset('trouble.n.01')      3.0  0.166667\n",
       "Synset('must.n.01')         2.0  0.111111\n",
       "Synset('terminus.n.03')     2.0  0.111111\n",
       "Synset('resolution.n.04')   2.0  0.111111\n",
       "Synset('computer.n.01')     6.0  0.333333\n",
       "Synset('science.n.01')      3.0  0.166667"
      ]
     },
     "execution_count": 288,
     "metadata": {},
     "output_type": "execute_result"
    }
   ],
   "source": [
    "ss=p_IC_C(res_df,jcn_df).T\n",
    "ss\n",
    "r=rmv_red_ratio.T\n",
    "r\n",
    "#ss.apply(r['Ratio'])"
   ]
  },
  {
   "cell_type": "code",
   "execution_count": 239,
   "metadata": {
    "collapsed": false
   },
   "outputs": [
    {
     "name": "stdout",
     "output_type": "stream",
     "text": [
      "8.75914458858\n",
      "Synset('trouble.n.01')       1.892109\n",
      "Synset('must.n.01')          0.565129\n",
      "Synset('terminus.n.03')      1.792219\n",
      "Synset('resolution.n.04')    1.445794\n",
      "Synset('computer.n.01')      1.169610\n",
      "Synset('science.n.01')       1.894284\n",
      "Name: Mean, dtype: float64\n"
     ]
    },
    {
     "data": {
      "text/html": [
       "<div>\n",
       "<table border=\"1\" class=\"dataframe\">\n",
       "  <thead>\n",
       "    <tr style=\"text-align: right;\">\n",
       "      <th></th>\n",
       "      <th>Synset('trouble.n.01')</th>\n",
       "      <th>Synset('must.n.01')</th>\n",
       "      <th>Synset('terminus.n.03')</th>\n",
       "      <th>Synset('resolution.n.04')</th>\n",
       "      <th>Synset('computer.n.01')</th>\n",
       "      <th>Synset('science.n.01')</th>\n",
       "    </tr>\n",
       "  </thead>\n",
       "  <tbody>\n",
       "    <tr>\n",
       "      <th>Synset('trouble.n.01')</th>\n",
       "      <td>0</td>\n",
       "      <td>0.0602295</td>\n",
       "      <td>1.31246</td>\n",
       "      <td>3.62984</td>\n",
       "      <td>0.066154</td>\n",
       "      <td>6.28397</td>\n",
       "    </tr>\n",
       "    <tr>\n",
       "      <th>Synset('must.n.01')</th>\n",
       "      <td>0.0602295</td>\n",
       "      <td>0</td>\n",
       "      <td>1.60612</td>\n",
       "      <td>0.0523072</td>\n",
       "      <td>1.60913</td>\n",
       "      <td>0.0629815</td>\n",
       "    </tr>\n",
       "    <tr>\n",
       "      <th>Synset('terminus.n.03')</th>\n",
       "      <td>1.31246</td>\n",
       "      <td>1.60612</td>\n",
       "      <td>0</td>\n",
       "      <td>1.3026</td>\n",
       "      <td>5.21616</td>\n",
       "      <td>1.31597</td>\n",
       "    </tr>\n",
       "    <tr>\n",
       "      <th>Synset('resolution.n.04')</th>\n",
       "      <td>3.62984</td>\n",
       "      <td>0.0523072</td>\n",
       "      <td>1.3026</td>\n",
       "      <td>0</td>\n",
       "      <td>0.0567186</td>\n",
       "      <td>3.6333</td>\n",
       "    </tr>\n",
       "    <tr>\n",
       "      <th>Synset('computer.n.01')</th>\n",
       "      <td>0.066154</td>\n",
       "      <td>1.60913</td>\n",
       "      <td>5.21616</td>\n",
       "      <td>0.0567186</td>\n",
       "      <td>0</td>\n",
       "      <td>0.069489</td>\n",
       "    </tr>\n",
       "    <tr>\n",
       "      <th>Synset('science.n.01')</th>\n",
       "      <td>6.28397</td>\n",
       "      <td>0.0629815</td>\n",
       "      <td>1.31597</td>\n",
       "      <td>3.6333</td>\n",
       "      <td>0.069489</td>\n",
       "      <td>0</td>\n",
       "    </tr>\n",
       "    <tr>\n",
       "      <th>Mean</th>\n",
       "      <td>1.89211</td>\n",
       "      <td>0.565129</td>\n",
       "      <td>1.79222</td>\n",
       "      <td>1.44579</td>\n",
       "      <td>1.16961</td>\n",
       "      <td>1.89428</td>\n",
       "    </tr>\n",
       "    <tr>\n",
       "      <th>Ratio_mean</th>\n",
       "      <td>0.216015</td>\n",
       "      <td>0.0645187</td>\n",
       "      <td>0.204611</td>\n",
       "      <td>0.165061</td>\n",
       "      <td>0.13353</td>\n",
       "      <td>0.216264</td>\n",
       "    </tr>\n",
       "  </tbody>\n",
       "</table>\n",
       "</div>"
      ],
      "text/plain": [
       "                          Synset('trouble.n.01') Synset('must.n.01')  \\\n",
       "Synset('trouble.n.01')                         0           0.0602295   \n",
       "Synset('must.n.01')                    0.0602295                   0   \n",
       "Synset('terminus.n.03')                  1.31246             1.60612   \n",
       "Synset('resolution.n.04')                3.62984           0.0523072   \n",
       "Synset('computer.n.01')                 0.066154             1.60913   \n",
       "Synset('science.n.01')                   6.28397           0.0629815   \n",
       "Mean                                     1.89211            0.565129   \n",
       "Ratio_mean                              0.216015           0.0645187   \n",
       "\n",
       "                          Synset('terminus.n.03') Synset('resolution.n.04')  \\\n",
       "Synset('trouble.n.01')                    1.31246                   3.62984   \n",
       "Synset('must.n.01')                       1.60612                 0.0523072   \n",
       "Synset('terminus.n.03')                         0                    1.3026   \n",
       "Synset('resolution.n.04')                  1.3026                         0   \n",
       "Synset('computer.n.01')                   5.21616                 0.0567186   \n",
       "Synset('science.n.01')                    1.31597                    3.6333   \n",
       "Mean                                      1.79222                   1.44579   \n",
       "Ratio_mean                               0.204611                  0.165061   \n",
       "\n",
       "                          Synset('computer.n.01') Synset('science.n.01')  \n",
       "Synset('trouble.n.01')                   0.066154                6.28397  \n",
       "Synset('must.n.01')                       1.60913              0.0629815  \n",
       "Synset('terminus.n.03')                   5.21616                1.31597  \n",
       "Synset('resolution.n.04')               0.0567186                 3.6333  \n",
       "Synset('computer.n.01')                         0               0.069489  \n",
       "Synset('science.n.01')                   0.069489                      0  \n",
       "Mean                                      1.16961                1.89428  \n",
       "Ratio_mean                                0.13353               0.216264  "
      ]
     },
     "execution_count": 239,
     "metadata": {},
     "output_type": "execute_result"
    }
   ],
   "source": [
    "ss=p_IC_C(res_df,jcn_df).T\n",
    "#ss\n",
    "ss['Mean']=ss.apply(np.mean)\n",
    "total=ss.values.sum()\n",
    "\n",
    "#ss['Max']=ss.apply(np.max)\n",
    "#ss['MIN']=ss.apply(np.min)\n",
    "#ss['Total']=ss.apply(np.sum) #[col,row] #.apply(np.mean)\n",
    "#ss.groupby(\"Mean\").sum()\n",
    "total_mean=ss['Mean'].sum()\n",
    "\n",
    "ss['Ratio_mean']=ss['Mean']/total_mean#ss.apply(np.mean)\n",
    "#ss['RATIO']=ss.apply(ss['Mean']/ss['Total'])\n",
    "ss.T"
   ]
  },
  {
   "cell_type": "code",
   "execution_count": 166,
   "metadata": {
    "collapsed": false,
    "deletable": true,
    "editable": true
   },
   "outputs": [
    {
     "data": {
      "text/plain": [
       "Freq    3.0\n",
       "dtype: float64"
      ]
     },
     "execution_count": 166,
     "metadata": {},
     "output_type": "execute_result"
    }
   ],
   "source": [
    "import numpy as np\n",
    "lesk_vec=[]# synset lesk of words per pragraph\n",
    "synset_lesk_noDuplicates=[]\n",
    "Sentences=pragraph_to_setnences(pragraphs[1])\n",
    "for sentence in Sentences:\n",
    "    Words=remove_stopword_sentences(sentence)\n",
    "    for word in Words:\n",
    "        lesk_synset=lesk_word_sentence(word,sentence)\n",
    "        if lesk_synset is not None:\n",
    "            lesk_vec.append(lesk_synset)\n",
    "\n",
    "#Count Freq\n",
    "df_freq=count_freq(lesk_vec)\n",
    "df_freq\n",
    "#print(df_freq.values.sum())\n",
    "#print(df_freq.T)\n",
    "\n",
    "ss=DataFrame.dropna(df_freq[df_freq.ix['Freq':] > 1].T)\n",
    "#total=ss.values.sum().sum()\n",
    "#ss['Ratio']=(ss['Freq']/total)\n",
    "#ss.T\n",
    "ss.apply(np.mean)\n",
    "#ss.ix[0,1 ] #[col,row] #.apply(np.mean)"
   ]
  },
  {
   "cell_type": "markdown",
   "metadata": {
    "deletable": true,
    "editable": true
   },
   "source": [
    "# Data Visualization"
   ]
  },
  {
   "cell_type": "code",
   "execution_count": 289,
   "metadata": {
    "collapsed": false,
    "deletable": true,
    "editable": true
   },
   "outputs": [],
   "source": [
    "%matplotlib inline\n",
    "import matplotlib.pyplot as plt\n",
    "import matplotlib\n",
    "matplotlib.style.use('ggplot') \n",
    "import numpy as np\n",
    "#import bokeh.charts as bc\n",
    "#import bokeh.plotting as bk\n"
   ]
  },
  {
   "cell_type": "code",
   "execution_count": 290,
   "metadata": {
    "collapsed": false,
    "deletable": true,
    "editable": true
   },
   "outputs": [
    {
     "data": {
      "text/plain": [
       "<matplotlib.axes._subplots.AxesSubplot at 0x7fe046e64518>"
      ]
     },
     "execution_count": 290,
     "metadata": {},
     "output_type": "execute_result"
    },
    {
     "data": {
      "image/png": "[encoded data removed]",
      "text/plain": [
       "<matplotlib.figure.Figure at 0x7fe04893fe10>"
      ]
     },
     "metadata": {},
     "output_type": "display_data"
    }
   ],
   "source": [
    "jcn_df.plot(title='jcn_df')\n"
   ]
  },
  {
   "cell_type": "code",
   "execution_count": null,
   "metadata": {
    "collapsed": false,
    "deletable": true,
    "editable": true
   },
   "outputs": [],
   "source": [
    "df = pd.DataFrame(np.random.rand(50, 4), columns=['a', 'b', 'c', 'd'])\n",
    "\n",
    "jcn_df.plot.scatter(x='a', y='b');"
   ]
  },
  {
   "cell_type": "code",
   "execution_count": null,
   "metadata": {
    "collapsed": false,
    "deletable": true,
    "editable": true
   },
   "outputs": [],
   "source": [
    "ax = df.plot.scatter(x='a', y='b', color='DarkBlue', label='Group 1');\n",
    "df.plot.scatter(x='c', y='d', color='DarkGreen', label='Group 2', ax=ax);"
   ]
  },
  {
   "cell_type": "code",
   "execution_count": null,
   "metadata": {
    "collapsed": false,
    "deletable": true,
    "editable": true,
    "scrolled": false
   },
   "outputs": [],
   "source": [
    "jcn_df.plot.scatter(x='a', y='b', c='c', s=50);"
   ]
  },
  {
   "cell_type": "code",
   "execution_count": null,
   "metadata": {
    "collapsed": false,
    "deletable": true,
    "editable": true
   },
   "outputs": [],
   "source": [
    "jcn_df.plot(style=['o','rx','kk'])"
   ]
  },
  {
   "cell_type": "code",
   "execution_count": null,
   "metadata": {
    "collapsed": false,
    "deletable": true,
    "editable": true
   },
   "outputs": [],
   "source": []
  },
  {
   "cell_type": "code",
   "execution_count": null,
   "metadata": {
    "collapsed": true,
    "deletable": true,
    "editable": true
   },
   "outputs": [],
   "source": []
  }
 ],
 "metadata": {
  "kernelspec": {
   "display_name": "Python 3",
   "language": "python",
   "name": "python3"
  },
  "language_info": {
   "codemirror_mode": {
    "name": "ipython",
    "version": 3
   },
   "file_extension": ".py",
   "mimetype": "text/x-python",
   "name": "python",
   "nbconvert_exporter": "python",
   "pygments_lexer": "ipython3",
   "version": "3.5.2"
  }
 },
 "nbformat": 4,
 "nbformat_minor": 2
}
